{
 "cells": [
  {
   "cell_type": "code",
   "execution_count": 97,
   "metadata": {},
   "outputs": [],
   "source": [
    "import pandas as pd\n",
    "import numpy as np\n",
    "import matplotlib.pyplot as plt"
   ]
  },
  {
   "cell_type": "code",
   "execution_count": 98,
   "metadata": {},
   "outputs": [],
   "source": [
    "csv_file = 'data.csv'  # Replace with your CSV file's path\n",
    "df = pd.read_csv(csv_file)\n"
   ]
  },
  {
   "cell_type": "code",
   "execution_count": 99,
   "metadata": {},
   "outputs": [
    {
     "data": {
      "text/plain": [
       "0                Floral\n",
       "1                Floral\n",
       "2                  Liso\n",
       "3                Floral\n",
       "4               Plantas\n",
       "             ...       \n",
       "5101    Color combinado\n",
       "5102             Floral\n",
       "5103               Liso\n",
       "5104               Liso\n",
       "5105               Liso\n",
       "Name: Estampado, Length: 5106, dtype: object"
      ]
     },
     "execution_count": 99,
     "metadata": {},
     "output_type": "execute_result"
    }
   ],
   "source": [
    "df['Estampado'] = df['Estampado'].replace(\"floral de margarita\", \"Floral\")\n",
    "df['Estampado'] = df['Estampado'].str.split(',').str.get(0)\n",
    "df['Estampado']"
   ]
  },
  {
   "cell_type": "code",
   "execution_count": 100,
   "metadata": {},
   "outputs": [
    {
     "name": "stdout",
     "output_type": "stream",
     "text": [
      "unique_values:['Floral' 'Liso' 'Plantas' 'todo estampado' 'Tropical' 'Gráfico'\n",
      " 'Bajo con volante' 'A rayas' 'Lunares' 'Color combinado' 'Rayas irisadas'\n",
      " 'Espalda al aire' 'Frutas y verduras' 'Letras' 'Guingán' 'retazo'\n",
      " 'Tribal' 'Corazón' 'Geométrico' 'Estampado de Leopardo' 'suelto'\n",
      " 'A cuadros' 'Halloween' 'Pata de Gallo' 'Degradado' 'Mármol' 'Tie-Dye'\n",
      " 'Botón' 'manga corta' 'Figuras' 'manga larga' 'Cinturón' 'Paisley'\n",
      " 'Tartán' 'Mariposa' 'Estampado de Cebra' 'Cadena' 'Ojales' 'Abertura'\n",
      " 'Escamas' nan 'Maxi' 'Envolvente' 'Líneas en Contraste' '100% Poliéster'\n",
      " 'Partición' 'Regular' 'Encaje en contraste' 'Sin Desgastar' 'cheurón'\n",
      " 'lavadora o limpieza en seco profesional' 'floral de margarita'\n",
      " 'Abertura alta' 'Galaxia' 'Transparente' 'Drapeado' 'Volante' 'Fruncido'\n",
      " 'Tela tejida' \"cuello en 'v' o pico profundo\" 'Frase' 'Bolsillo'\n",
      " 'Asimétrico' 'Animal' 'Estampado Random' 'Elástico Ligero'\n",
      " 'Efecto De Serpiente' 'Lazada' 'Contraste Lentejuelas'\n",
      " 'Gargantilla cuello' 'Lavado a máquina' 'Malla en contraste'\n",
      " 'cuello redondo' 'No']\n"
     ]
    }
   ],
   "source": [
    "unique_values = df['Estampado'].unique()\n",
    "print(f\"unique_values:{unique_values}\")"
   ]
  },
  {
   "cell_type": "code",
   "execution_count": 101,
   "metadata": {},
   "outputs": [],
   "source": [
    "df['Estampado'] = df['Estampado'].replace(\"todo estampado\", \"Generico\")\n",
    "df['Estampado'] = df['Estampado'].replace(\"Bajo con volante\", \"Generico\")\n",
    "df['Estampado'] = df['Estampado'].replace(\"A rayas\", \"Rayas\")\n",
    "df['Estampado'] = df['Estampado'].replace(\"Color combinado\", \"Combinado\")\n",
    "df['Estampado'] = df['Estampado'].replace(\"Rayas irisadas\", \"Rayas\")\n",
    "df['Estampado'] = df['Estampado'].replace(\"Espalda al aire\",\"Generico\")\n",
    "df['Estampado'] = df['Estampado'].replace(\"Frutas y verduras\",\"Frutal\")\n",
    "df['Estampado'] = df['Estampado'].replace(\"retazo\",\"Retazo\")\n",
    "df['Estampado'] = df['Estampado'].replace(\"Estampado de Leopardo\",\"Animal\")\n",
    "df['Estampado'] = df['Estampado'].replace(\"suelto\",\"Generico\")\n",
    "df['Estampado'] = df['Estampado'].replace(\"A cuadros\",\"Guingán\")\n",
    "df['Estampado'] = df['Estampado'].replace(\"Figuras\",\"Geométrico\")\n",
    "df['Estampado'] = df['Estampado'].replace(\"manga larga\",\"Generico\")\n",
    "df['Estampado'] = df['Estampado'].replace(\"Cinturón\",\"Generico\")\n",
    "df['Estampado'] = df['Estampado'].replace(\"Estampado de Cebra\",\"Animal\")\n",
    "df['Estampado'] = df['Estampado'].replace(\"Abertura\",\"Generico\")\n",
    "df['Estampado'] = df['Estampado'].replace(\"Maxi\",\"Generico\")\n",
    "df['Estampado'] = df['Estampado'].replace(\"Envolvente\",\"Generico\")\n",
    "df['Estampado'] = df['Estampado'].replace(\"Líneas en Contraste\",\"Rayas\")\n",
    "df['Estampado'] = df['Estampado'].replace(\"100% Poliéster\",\"Generico\")\n",
    "df['Estampado'] = df['Estampado'].replace(\"Partición\",\"Generico\")\n",
    "df['Estampado'] = df['Estampado'].replace(\"Regular\",\"Generico\")\n",
    "df['Estampado'] = df['Estampado'].replace(\"Encaje en contraste\",\"Generico\")\n",
    "df['Estampado'] = df['Estampado'].replace(\"Sin Desgastar\",\"Generico\")\n",
    "df['Estampado'] = df['Estampado'].replace(\"lavadora o limpieza en seco profesional\",\"Generico\")\n",
    "df['Estampado'] = df['Estampado'].replace(\"Abertura alta\",\"Generico\")\n",
    "df['Estampado'] = df['Estampado'].replace(\"Volante\",\"Generico\")\n",
    "df['Estampado'] = df['Estampado'].replace(\"Fruncido\",\"Generico\")\n",
    "df['Estampado'] = df['Estampado'].replace(\"Tela tejida\",\"Tejido\")\n",
    "df['Estampado'] = df['Estampado'].replace(\"cuello en 'v' o pico profundo\",\"Generico\")\n",
    "df['Estampado'] = df['Estampado'].replace(\"Bolsillo\",\"Generico\")\n",
    "df['Estampado'] = df['Estampado'].replace(\"Asimétrico\",\"Drapeado\")\n",
    "df['Estampado'] = df['Estampado'].replace(\"Estampado Random\",\"Drapeado\")\n",
    "df['Estampado'] = df['Estampado'].replace(\"Elástico Ligero\",\"Generico\")\n",
    "df['Estampado'] = df['Estampado'].replace(\"Efecto De Serpiente\",\"Animal\")\n",
    "df['Estampado'] = df['Estampado'].replace(\"Lazada\",\"Generico\")\n",
    "df['Estampado'] = df['Estampado'].replace(\"Contraste Lentejuelas\",\"Lentejuelas\")\n",
    "df['Estampado'] = df['Estampado'].replace(\"Gargantilla cuello\",\"Generico\")\n",
    "df['Estampado'] = df['Estampado'].replace(\"Lavado a máquina\",\"Generico\")\n",
    "df['Estampado'] = df['Estampado'].replace(\"Malla en contraste\",\"Malla\")\n",
    "df['Estampado'] = df['Estampado'].replace(\"cuello redondo\",\"Generico\")\n",
    "df['Estampado'] = df['Estampado'].replace(\"No\",\"Generico\")\n",
    "df['Estampado'] = df['Estampado'].replace(\"Botón\",\"Generico\")\n",
    "df['Estampado'] = df['Estampado'].replace(\"manga corta\",\"Generico\")\n",
    "df['Estampado'] = df['Estampado'].replace(\"cheurón\",\"Cheuron\")"
   ]
  },
  {
   "cell_type": "code",
   "execution_count": 102,
   "metadata": {},
   "outputs": [
    {
     "name": "stdout",
     "output_type": "stream",
     "text": [
      "unique_values:['Floral' 'Liso' 'Plantas' 'Generico' 'Tropical' 'Gráfico' 'Rayas'\n",
      " 'Lunares' 'Combinado' 'Frutal' 'Letras' 'Guingán' 'Retazo' 'Tribal'\n",
      " 'Corazón' 'Geométrico' 'Animal' 'Halloween' 'Pata de Gallo' 'Degradado'\n",
      " 'Mármol' 'Tie-Dye' 'Paisley' 'Tartán' 'Mariposa' 'Cadena' 'Ojales'\n",
      " 'Escamas' nan 'Cheuron' 'floral de margarita' 'Galaxia' 'Transparente'\n",
      " 'Drapeado' 'Tejido' 'Frase' 'Lentejuelas' 'Malla']\n"
     ]
    }
   ],
   "source": [
    "unique_values = df['Estampado'].unique()\n",
    "print(f\"unique_values:{unique_values}\")"
   ]
  },
  {
   "cell_type": "code",
   "execution_count": 103,
   "metadata": {},
   "outputs": [
    {
     "name": "stdout",
     "output_type": "stream",
     "text": [
      "unique_values:['Multicolor' 'Negro' 'Azul' 'Gris' 'Caqui' 'Verde' 'Rojo' 'azul real'\n",
      " 'Blanco' 'Morado' 'Azul y blanco' 'Neblina azul' 'Blanco y Negro' 'Beis'\n",
      " 'Burdeos' 'Rosa' 'Verde Oscuro' 'Verde Oliva' 'Azul Marino' 'Rosa Fucsia'\n",
      " 'Rosa vieja' 'Albaricoque' 'Amarillo' 'Rojo y blanco' 'Naranja'\n",
      " 'Verde Lima' 'Rojo violeta' 'Agua verde azul' 'Gris Claro' 'Color caoba'\n",
      " 'Verde militar' 'Marrón' 'Camel' 'Óxido marrón' 'Plateado' 'Dorado'\n",
      " 'Celeste' 'Café integral' 'Negro y oro' 'Púrpura malva' 'verde menta'\n",
      " 'Naranja Quemada' 'Gris Oscuro' 'Marrón Chocolate' 'Lila Púrpura'\n",
      " 'Marrón Mocha' 'Azul menta' 'Azul Cadete' 'Rosa Pálido'\n",
      " 'Púrpura polvoriento' 'Verde botella' 'Azul lavado oscuro'\n",
      " 'Naranja Coral' 'Poliéster' 'Rosa Roja' 'Café' 'Bugambilia' 'Azul Rey'\n",
      " 'Granate' 'Mostaza Amarilla' 'Champán' 'Bronce' 'Morado Violeta' nan\n",
      " 'L0002' 'L0003' 'Rosado Sandía' 'Rosa coral' 'Lavado ligero'\n",
      " 'Tela tejida' 'Rosa Oxidada']\n"
     ]
    }
   ],
   "source": [
    "unique_values = df['Color'].unique()\n",
    "print(f\"unique_values:{unique_values}\")"
   ]
  },
  {
   "cell_type": "code",
   "execution_count": 104,
   "metadata": {},
   "outputs": [],
   "source": [
    "df['Color'] = df['Color'].replace(\"azul real\",\"Azul Rey\")\n",
    "df['Color'] = df['Color'].replace(\"Neblina azul\",\"Azul\")\n",
    "df['Color'] = df['Color'].replace(\"Rosa vieja\",\"Rosa Palo\")\n",
    "df['Color'] = df['Color'].replace(\"Agua verde azul\",\"Aqua\")\n",
    "df['Color'] = df['Color'].replace(\"Óxido marrón\",\"Marrón\")\n",
    "df['Color'] = df['Color'].replace(\"Café integral\",\"Café\")\n",
    "df['Color'] = df['Color'].replace(\"Púrpura malva\",\"Púrpura\")\n",
    "df['Color'] = df['Color'].replace(\"verde menta\",\"Verde menta\")\n",
    "df['Color'] = df['Color'].replace(\"Naranja Quemada\",\"Naranja\")\n",
    "df['Color'] = df['Color'].replace(\"Marrón Chocolate\",\"Marrón\")\n",
    "df['Color'] = df['Color'].replace(\"Marrón Mocha\",\"Marrón\")\n",
    "df['Color'] = df['Color'].replace(\"Azul Cadete\",\"Azul Celeste\")\n",
    "df['Color'] = df['Color'].replace(\"Rosa Pálido\",\"Rosa Palo\")\n",
    "df['Color'] = df['Color'].replace(\"Púrpura polvoriento\",\"Púrpura\")\n",
    "df['Color'] = df['Color'].replace(\"Verde botella\",\"Verde oscuro\")\n",
    "df['Color'] = df['Color'].replace(\"Azul lavado oscuro\",\"Azul oscuro\")\n",
    "df['Color'] = df['Color'].replace(\"Naranja Coral\",\"Coral\")\n",
    "df['Color'] = df['Color'].replace(\"Poliéster\",\"Generico\")\n",
    "df['Color'] = df['Color'].replace(\"Rosa Roja\",\"Rosa\")\n",
    "df['Color'] = df['Color'].replace(\"Bugambilia\",\"Púrpura\")\n",
    "df['Color'] = df['Color'].replace(\"Azul Rey\",\"\")\n",
    "df['Color'] = df['Color'].replace(\"L0002\",\"Generico\")\n",
    "df['Color'] = df['Color'].replace(\"L0003\",\"Generico\")\n",
    "df['Color'] = df['Color'].replace(\"Rosado Sandía\",\"Rosa\")\n",
    "df['Color'] = df['Color'].replace(\"Rosa coral\",\"Coral\")\n",
    "df['Color'] = df['Color'].replace(\"Lavado ligero\",\"Generico\")\n",
    "df['Color'] = df['Color'].replace(\"Tela tejida\",\"Generico\")\n",
    "df['Color'] = df['Color'].replace(\"Rosa Oxidada\",\"Rosa\")\n",
    "df['Color'] = df['Color'].replace(\"\",\"Generico\")\n",
    "df['Color'] = df['Color'].replace(\"Morado\",\"Púrpura\")\n",
    "df['Color'] = df['Color'].replace(\"Color caoba\",\"Caoba\")\n",
    "df['Color'] = df['Color'].replace(\"Camel\",\"Beis\")\n",
    "df['Color'] = df['Color'].replace(\"Celeste\",\"Azul Celeste\")\n",
    "df['Color'] = df['Color'].replace(\"Verde Oscuro\",\"Verde oscuro\")\n",
    "df['Color'] = df['Color'].replace(\"Granate\",\"Burdeos\")\n",
    "df['Color'] = df['Color'].replace(\"Mostaza Amarilla\",\"Amarillo\")\n",
    "df['Color'] = df['Color'].replace(\"Champán\",\"Beis\")\n",
    "df['Color'] = df['Color'].replace(\"Bronce\",\"Café\")\n",
    "df['Color'] = df['Color'].replace(\"Morado Violeta\",\"Púrpura\")"
   ]
  },
  {
   "cell_type": "code",
   "execution_count": 105,
   "metadata": {},
   "outputs": [
    {
     "name": "stdout",
     "output_type": "stream",
     "text": [
      "unique_values:['Multicolor' 'Negro' 'Azul' 'Gris' 'Caqui' 'Verde' 'Rojo' 'Generico'\n",
      " 'Blanco' 'Púrpura' 'Azul y blanco' 'Blanco y Negro' 'Beis' 'Burdeos'\n",
      " 'Rosa' 'Verde oscuro' 'Verde Oliva' 'Azul Marino' 'Rosa Fucsia'\n",
      " 'Rosa Palo' 'Albaricoque' 'Amarillo' 'Rojo y blanco' 'Naranja'\n",
      " 'Verde Lima' 'Rojo violeta' 'Aqua' 'Gris Claro' 'Caoba' 'Verde militar'\n",
      " 'Marrón' 'Plateado' 'Dorado' 'Azul Celeste' 'Café' 'Negro y oro'\n",
      " 'Verde menta' 'Gris Oscuro' 'Lila Púrpura' 'Azul menta' 'Azul oscuro'\n",
      " 'Coral' nan]\n"
     ]
    }
   ],
   "source": [
    "unique_values = df['Color'].unique()\n",
    "print(f\"unique_values:{unique_values}\")"
   ]
  },
  {
   "cell_type": "code",
   "execution_count": 106,
   "metadata": {},
   "outputs": [
    {
     "name": "stdout",
     "output_type": "stream",
     "text": [
      "unique_values:['Bohemio' 'Fiesta' 'Elegante' 'Casual' 'Sexy'\n",
      " 'Vintage, Fiesta, Bohemio, Elegante, Casual, Dulce' 'Elegante, Casual'\n",
      " 'Vintage, Elegante, Casual'\n",
      " 'Vintage, Fiesta, Sencillo, Bohemio, Elegante, Sexy, Casual' 'Dulce'\n",
      " 'Vintage, Fiesta, Bohemio, Elegante, Casual' 'Bohemio, Casual' 'Corto'\n",
      " 'Vintage, Sencillo, Bohemio, Sexy, Casual, Dulce' 'Fiesta, Elegante'\n",
      " 'Fiesta, Sexy' 'Sexy, Casual' 'Elegante, Sexy' 'Liso'\n",
      " 'Fiesta, Sencillo, Bohemio, Sexy, Casual, Dulce' 'Bohemio, Elegante'\n",
      " 'Largo' 'Sencillo, Bohemio, Elegante, Sexy, Casual, Dulce'\n",
      " 'Fiesta, Elegante, Sexy, Casual, Dulce' 'Elegante, Sexy, Casual'\n",
      " 'Fiesta, Elegante, Sexy' nan 'Floral, todo estampado' 'Bohemio, Sexy'\n",
      " 'Vintage, Elegante' 'Poliéster' 'Fiesta, Dulce'\n",
      " 'Sencillo, Elegante, Casual' 'Elegante, Casual, Dulce'\n",
      " 'Vintage, Sencillo, Bohemio, Elegante, Sexy, Casual, Dulce'\n",
      " 'Exterior: 100% Poliéster' 'Sencillo' 'Sexy, Dulce'\n",
      " 'Vintage, Fiesta, Elegante, Sexy, Casual, Dulce'\n",
      " 'Vintage, Bohemio, Elegante, Sexy, Casual, Dulce' 'Vintage'\n",
      " 'Fiesta, Sencillo, Elegante, Casual'\n",
      " 'Vintage, Fiesta, Sencillo, Bohemio, Sexy, Casual, Dulce' 'Floral'\n",
      " 'Estiramiento medio' 'Geométrico'\n",
      " 'Fiesta, Sencillo, Elegante, Sexy, Casual, Dulce'\n",
      " 'Fiesta, Bohemio, Elegante, Casual' 'Sencillo, Elegante, Sexy, Casual'\n",
      " 'Vintage, Bohemio, Elegante, Sexy' 'Vintage, Sencillo, Casual'\n",
      " 'Vintage, Fiesta, Sencillo, Bohemio, Elegante, Sexy, Casual, Dulce'\n",
      " 'Bohemio, Dulce'\n",
      " 'Vintage, Fiesta, Bohemio, Elegante, Sexy, Casual, Dulce'\n",
      " 'Exterior: 94% Poliéster, 6% Elastano Interior: 92% Poliéster, 8% Elastano'\n",
      " 'Casual, Dulce' 'Elegante, Dulce' 'Sencillo, Casual' 'sin mangas'\n",
      " 'Sencillo, Bohemio']\n"
     ]
    }
   ],
   "source": [
    "unique_values = df['Estilo'].unique()\n",
    "print(f\"unique_values:{unique_values}\")"
   ]
  },
  {
   "cell_type": "code",
   "execution_count": 107,
   "metadata": {},
   "outputs": [],
   "source": [
    "df['Estilo'] = df['Estilo'].str.split(',').str.get(0)"
   ]
  },
  {
   "cell_type": "code",
   "execution_count": 108,
   "metadata": {},
   "outputs": [
    {
     "name": "stdout",
     "output_type": "stream",
     "text": [
      "unique_values:['Bohemio' 'Fiesta' 'Elegante' 'Casual' 'Sexy' 'Vintage' 'Dulce' 'Corto'\n",
      " 'Liso' 'Largo' 'Sencillo' nan 'Floral' 'Poliéster'\n",
      " 'Exterior: 100% Poliéster' 'Estiramiento medio' 'Geométrico'\n",
      " 'Exterior: 94% Poliéster' 'sin mangas']\n"
     ]
    }
   ],
   "source": [
    "unique_values = df['Estilo'].unique()\n",
    "print(f\"unique_values:{unique_values}\")"
   ]
  },
  {
   "cell_type": "code",
   "execution_count": 109,
   "metadata": {},
   "outputs": [],
   "source": [
    "df['Estilo'] = df['Estilo'].replace(\"Poliéster\",\"Generico\")\n",
    "df['Estilo'] = df['Estilo'].replace(\"Exterior: 100% Poliéster\",\"Generico\")\n",
    "df['Estilo'] = df['Estilo'].replace(\"Estiramiento medio\",\"Generico\")\n",
    "df['Estilo'] = df['Estilo'].replace(\"Exterior: 94% Poliéster\",\"Generico\")\n",
    "df['Estilo'] = df['Estilo'].replace(\"sin mangas\",\"Generico\")"
   ]
  },
  {
   "cell_type": "code",
   "execution_count": 110,
   "metadata": {},
   "outputs": [
    {
     "name": "stdout",
     "output_type": "stream",
     "text": [
      "unique_values:['Bohemio' 'Fiesta' 'Elegante' 'Casual' 'Sexy' 'Vintage' 'Dulce' 'Corto'\n",
      " 'Liso' 'Largo' 'Sencillo' nan 'Floral' 'Generico' 'Geométrico']\n"
     ]
    }
   ],
   "source": [
    "unique_values = df['Estilo'].unique()\n",
    "print(f\"unique_values:{unique_values}\")"
   ]
  },
  {
   "cell_type": "code",
   "execution_count": 111,
   "metadata": {},
   "outputs": [
    {
     "name": "stdout",
     "output_type": "stream",
     "text": [
      "unique_values:[\"cuello en 'v' o pico\" 'sin mangas' 'Cuello Alzado' 'escote cuadrado'\n",
      " 'cuello redondo' 'Sin tirantes' \"cuello en 'v' o pico profundo\"\n",
      " 'manga corta' 'Tirantes finos' 'Tirantas' 'manga francesa'\n",
      " 'escote corazón' 'cuello asimétrico' 'Escote V' 'escote lágrima' 'Halter'\n",
      " 'cuello barco' 'Tela' 'Cuello Camisero' 'Cuello de Camisa'\n",
      " 'Hombros descubiertos' 'manga larga' 'Escote Caído' 'cuello cisne'\n",
      " 'capucha' 'Solapa' 'cuello scoop' 'Talle alto' 'Polo' 'Manga capa'\n",
      " 'Corbata' 'Gargantilla cuello' 'Regular' 'Largo' 'A capas' 'manga media'\n",
      " nan 'Elástico Ligero' 'Asimétrico' 'Cuello Mao' 'Abertura'\n",
      " 'Manga capa, manga corta' 'A línea' 'Casual' 'Cuello Arrugado' 'Recta'\n",
      " 'Cuello peter pan' '100% Poliéster' 'Lavadora, no limpiar en seco'\n",
      " 'Ajustado' 'Elegante' 'Corto']\n"
     ]
    }
   ],
   "source": [
    "unique_values = df['Escote'].unique()\n",
    "print(f\"unique_values:{unique_values}\")"
   ]
  },
  {
   "cell_type": "code",
   "execution_count": 112,
   "metadata": {},
   "outputs": [],
   "source": [
    "df['Escote'] = df['Escote'].replace(\"cuello en 'v' o pico\",\"Cuello V\")\n",
    "df['Escote'] = df['Escote'].replace(\"sin mangas\",\"Generico\")\n",
    "df['Escote'] = df['Escote'].replace(\"escote cuadrado\",\"Cuadrado\")\n",
    "df['Escote'] = df['Escote'].replace(\"cuello redondo\",\"Redondo\")\n",
    "df['Escote'] = df['Escote'].replace(\"Sin tirantes\",\"Generico\")\n",
    "df['Escote'] = df['Escote'].replace(\"cuello en 'v' o pico profundo\",\"Cuello V\")\n",
    "df['Escote'] = df['Escote'].replace(\"manga corta\",\"Generico\")\n",
    "df['Escote'] = df['Escote'].replace(\"Tirantes finos\",\"Generico\")\n",
    "df['Escote'] = df['Escote'].replace(\"Tirantas\",\"Generico\")\n",
    "df['Escote'] = df['Escote'].replace(\"manga francesa\",\"Generico\")\n",
    "df['Escote'] = df['Escote'].replace(\"escote corazón\",\"Corazón\")\n",
    "df['Escote'] = df['Escote'].replace(\"cuello asimétrico\",\"Asimétrico\")\n",
    "df['Escote'] = df['Escote'].replace(\"Escote V\",\"Cuello V\")\n",
    "df['Escote'] = df['Escote'].replace(\"escote lágrima\",\"Lágrima\")\n",
    "df['Escote'] = df['Escote'].replace(\"cuello barco\",\"Generico\")\n",
    "df['Escote'] = df['Escote'].replace(\"Tela\",\"Generico\")\n",
    "df['Escote'] = df['Escote'].replace(\"Cuello de Camisa\",\"Cuello Camisero\")\n",
    "df['Escote'] = df['Escote'].replace(\"Hombros descubiertos\",\"Recto\")\n",
    "df['Escote'] = df['Escote'].replace(\"manga larga\",\"Generico\")\n",
    "df['Escote'] = df['Escote'].replace(\"Escote Caído\",\"Caído\")\n",
    "df['Escote'] = df['Escote'].replace(\"cuello cisne\",\"Cisne\")\n",
    "df['Escote'] = df['Escote'].replace(\"capucha\",\"Generico\")\n",
    "df['Escote'] = df['Escote'].replace(\"cuello scoop\",\"Cuello scoop\")\n",
    "df['Escote'] = df['Escote'].replace(\"Talle alto\",\"Cuello Alzado\")\n",
    "df['Escote'] = df['Escote'].replace(\"Manga capa\",\"Generico\")\n",
    "df['Escote'] = df['Escote'].replace(\"Gargantilla cuello\",\"Generico\")\n",
    "df['Escote'] = df['Escote'].replace(\"Regular\",\"\")\n",
    "df['Escote'] = df['Escote'].replace(\"Largo\",\"\")\n",
    "df['Escote'] = df['Escote'].replace(\"A capas\",\"Recto\")\n",
    "df['Escote'] = df['Escote'].replace(\"manga media\",\"Generico\")\n",
    "df['Escote'] = df['Escote'].replace(\"Elástico Ligero\",\"Generico\")\n",
    "df['Escote'] = df['Escote'].replace(\"Manga capa, manga corta\",\"Generico\")\n",
    "df['Escote'] = df['Escote'].replace(\"A línea\",\"Recto\")\n",
    "df['Escote'] = df['Escote'].replace(\"Casual\",\"Asimétrico\")\n",
    "df['Escote'] = df['Escote'].replace(\"Cuello Arrugado\",\"Generico\")\n",
    "df['Escote'] = df['Escote'].replace(\"Recta\",\"Recto\")\n",
    "df['Escote'] = df['Escote'].replace(\"Cuello peter pan\",\"Cuello scoop\")\n",
    "df['Escote'] = df['Escote'].replace(\"100% Poliéster\",\"Generico\")\n",
    "df['Escote'] = df['Escote'].replace(\"Lavadora, no limpiar en seco\",\"Generico\")\n",
    "df['Escote'] = df['Escote'].replace(\"Ajustado\",\"Generico\")\n",
    "df['Escote'] = df['Escote'].replace(\"Elegante\",\"Recto\")\n",
    "df['Escote'] = df['Escote'].replace(\"Corto\",\"Recto\")\n",
    "df['Escote'] = df['Escote'].replace(\"\",\"Generico\")\n",
    "df['Escote'] = df['Escote'].replace(\"Cuello Mao\",\"Generico\")"
   ]
  },
  {
   "cell_type": "code",
   "execution_count": 127,
   "metadata": {},
   "outputs": [
    {
     "name": "stdout",
     "output_type": "stream",
     "text": [
      "unique_values:['Cuello V' 'Generico' 'Cuello Alzado' 'Cuadrado' 'Redondo' 'Corazón'\n",
      " 'Asimétrico' 'Lágrima' 'Halter' 'Cuello Camisero' 'Recto' 'Caído' 'Cisne'\n",
      " 'Solapa' 'Cuello scoop' 'Polo' 'Corbata' nan 'Abertura']\n"
     ]
    }
   ],
   "source": [
    "unique_values = df['Escote'].unique()\n",
    "print(f\"unique_values:{unique_values}\")"
   ]
  },
  {
   "cell_type": "code",
   "execution_count": 126,
   "metadata": {},
   "outputs": [
    {
     "name": "stdout",
     "output_type": "stream",
     "text": [
      "unique_values:['Sin mangas' 'Generico' 'Manga corta' 'Túnica' 'Manga larga' ''\n",
      " 'Manga capa' 'Manga media' 'Francesa' nan]\n"
     ]
    }
   ],
   "source": [
    "unique_values = df['Longitud_manga'].unique()\n",
    "print(f\"unique_values:{unique_values}\")"
   ]
  },
  {
   "cell_type": "code",
   "execution_count": 115,
   "metadata": {},
   "outputs": [],
   "source": [
    "df['Longitud_manga'] = df['Longitud_manga'].replace(\"sin mangas\",\"Sin mangas\")\n",
    "df['Longitud_manga'] = df['Longitud_manga'].replace(\"Tank\",\"Sin mangas\")\n",
    "df['Longitud_manga'] = df['Longitud_manga'].replace(\"Smock\",\"Generico\")\n",
    "df['Longitud_manga'] = df['Longitud_manga'].replace(\"manga larga\",\"Manga larga\")\n",
    "df['Longitud_manga'] = df['Longitud_manga'].replace(\"manga corta\",\"Manga corta\")\n",
    "df['Longitud_manga'] = df['Longitud_manga'].replace(\"camiseta, Túnica\",\"Túnica\")\n",
    "df['Longitud_manga'] = df['Longitud_manga'].replace(\"manga media\",\"Manga media\")\n",
    "df['Longitud_manga'] = df['Longitud_manga'].replace(\"Apretado, Ajustado\",\"\")\n",
    "df['Longitud_manga'] = df['Longitud_manga'].replace(\"Apretado\",\"\")\n",
    "df['Longitud_manga'] = df['Longitud_manga'].replace(\"Tank, Apretado\",\"\")\n",
    "df['Longitud_manga'] = df['Longitud_manga'].replace(\"Floral, todo estampado\",\"\")\n",
    "df['Longitud_manga'] = df['Longitud_manga'].replace(\"No\",\"\")\n",
    "df['Longitud_manga'] = df['Longitud_manga'].replace(\"Abertura\",\"\")\n",
    "df['Longitud_manga'] = df['Longitud_manga'].replace(\"Lavar a mano, no limpiar en seco\",\"\")\n",
    "df['Longitud_manga'] = df['Longitud_manga'].replace(\"A línea, Ajustado\",\"Sin mangas\")\n",
    "df['Longitud_manga'] = df['Longitud_manga'].replace(\"manga farol\",\"Manga larga\")\n",
    "df['Longitud_manga'] = df['Longitud_manga'].replace(\"55% Algodón, 45% Poliéster\",\"Sin mangas\")\n",
    "df['Longitud_manga'] = df['Longitud_manga'].replace(\"Tela tejida\",\"Generico\")\n",
    "df['Longitud_manga'] = df['Longitud_manga'].replace(\"A línea\",\"Generico\")\n",
    "df['Longitud_manga'] = df['Longitud_manga'].replace(\"camiseta\",\"Manga media\")\n",
    "df['Longitud_manga'] = df['Longitud_manga'].replace(\"Natural\",\"Sin mangas\")\n",
    "df['Longitud_manga'] = df['Longitud_manga'].replace(\"Ajustado\",\"Generico\")\n",
    "df['Longitud_manga'] = df['Longitud_manga'].replace(\"manga francesa\",\"Francesa\")\n",
    "df['Longitud_manga'] = df['Longitud_manga'].replace(\"100% Poliéster\",\"Generico\")\n",
    "df['Longitud_manga'] = df['Longitud_manga'].replace(\"A línea, Tank, Entallado y acampanado\",\"Generico\")\n",
    "df['Longitud_manga'] = df['Longitud_manga'].replace(\"A línea, Tank, Entallado y acampanado' 'Mangas Extra Largas\",\"Generico\")\n",
    "df['Longitud_manga'] = df['Longitud_manga'].replace(\"Mangas Extra Largas\",\"\")\n",
    "df['Longitud_manga'] = df['Longitud_manga'].replace(\"Manga hasta la Muñeca\",\"\")\n",
    "df['Longitud_manga'] = df['Longitud_manga'].replace(\"Manga normal\",\"\")\n",
    "df['Longitud_manga'] = df['Longitud_manga'].replace(\"Campana\",\"Generico\")\n",
    "df['Longitud_manga'] = df['Longitud_manga'].replace(\"camiseta, Tank\",\"Manga media\")\n",
    "df['Longitud_manga'] = df['Longitud_manga'].replace(\"Pichi\",\"Manga Larga\")\n",
    "df['Longitud_manga'] = df['Longitud_manga'].replace(\"A línea, Pichi\",\"Manga Larga\")\n",
    "df['Longitud_manga'] = df['Longitud_manga'].replace(\"Elástico Ligero\",\"\")\n",
    "df['Longitud_manga'] = df['Longitud_manga'].replace(\"Tirantes\",\"Sin Manga\")\n",
    "df['Longitud_manga'] = df['Longitud_manga'].replace(\"A línea, Tank\",\"Generico\")\n",
    "df['Longitud_manga'] = df['Longitud_manga'].replace(\"Regular\",\"Generico\")\n",
    "df['Longitud_manga'] = df['Longitud_manga'].replace(\"Largo\",\"Manga larga\")\n",
    "df['Longitud_manga'] = df['Longitud_manga'].replace(\"Entallado y acampanado\",\"Generico\")\n",
    "df['Longitud_manga'] = df['Longitud_manga'].replace(\"sin mangas, manga corta\",\"Sin mangas\")\n",
    "df['Longitud_manga'] = df['Longitud_manga'].replace(\"Talle alto\",\"Sin mangas\")\n",
    "df['Longitud_manga'] = df['Longitud_manga'].replace(\"Corto\",\"Generico\")\n",
    "df['Longitud_manga'] = df['Longitud_manga'].replace(\"manga capa\",\"Manga capa\")\n",
    "df['Longitud_manga'] = df['Longitud_manga'].replace(\"Mini\",\"Manga media\")\n",
    "df['Longitud_manga'] = df['Longitud_manga'].replace(\"Liso\",\"Sin mangas\")\n",
    "df['Longitud_manga'] = df['Longitud_manga'].replace(\"Maxi\",\"Sin mangas\")\n",
    "df['Longitud_manga'] = df['Longitud_manga'].replace(\"Camisa\",\"Manga media\")\n",
    "df['Longitud_manga'] = df['Longitud_manga'].replace(\"Sin Manga\",\"Sin mangas\")\n",
    "df['Longitud_manga'] = df['Longitud_manga'].replace(\"Manga Larga\",\"Manga larga\")\n",
    "\n",
    "\n"
   ]
  },
  {
   "cell_type": "code",
   "execution_count": 116,
   "metadata": {},
   "outputs": [
    {
     "name": "stdout",
     "output_type": "stream",
     "text": [
      "unique_values:['Sin mangas' 'Generico' 'Manga corta' 'Túnica' 'Manga larga' ''\n",
      " 'Manga capa' 'Manga media' 'Francesa' nan]\n"
     ]
    }
   ],
   "source": [
    "unique_values = df['Longitud_manga'].unique()\n",
    "print(f\"unique_values:{unique_values}\")"
   ]
  },
  {
   "cell_type": "code",
   "execution_count": 125,
   "metadata": {},
   "outputs": [
    {
     "name": "stdout",
     "output_type": "stream",
     "text": [
      "Corte:['A línea' 'Talle alto' 'Apretado' 'Natural' 'Tank' 'Camiseta' 'Túnica'\n",
      " 'Smock' 'Holgado' 'Tirantes' 'Ajustado' 'Generico' 'Manga murciélago'\n",
      " 'Hombros descubiertos' 'Lápiz' 'manga farol' 'No' 'Camisa' 'manga obispo'\n",
      " 'Largo' 'Sí' 'Entallado y acampanado' 'Regular' 'Manga enrollada' nan\n",
      " 'Asimétrico' 'Campana' 'Abertura' 'Corto']\n"
     ]
    }
   ],
   "source": [
    "unique_values = df['Corte'].unique()\n",
    "print(f\"Corte:{unique_values}\")"
   ]
  },
  {
   "cell_type": "code",
   "execution_count": 118,
   "metadata": {},
   "outputs": [],
   "source": [
    "df['Corte'] = df['Corte'].str.split(',').str.get(0)"
   ]
  },
  {
   "cell_type": "code",
   "execution_count": 140,
   "metadata": {},
   "outputs": [
    {
     "name": "stdout",
     "output_type": "stream",
     "text": [
      "Corte:['A línea' 'Talle alto' 'Apretado' 'Natural' 'Tank' 'Camiseta' 'Túnica'\n",
      " 'Smock' 'Holgado' 'Tirantes' 'Ajustado' 'Generico' 'Manga murciélago'\n",
      " 'Camisa' nan 'Corto']\n"
     ]
    }
   ],
   "source": [
    "unique_values = df['Corte'].unique()\n",
    "print(f\"Corte:{unique_values}\")"
   ]
  },
  {
   "cell_type": "code",
   "execution_count": 139,
   "metadata": {},
   "outputs": [],
   "source": [
    "df['Corte'] = df['Corte'].replace(\"Elástico Ligero\",\"Corto\")\n",
    "df['Corte'] = df['Corte'].replace(\"camiseta\",\"Camiseta\")\n",
    "df['Corte'] = df['Corte'].replace(\"Manga con volante\",\"Holgado\")\n",
    "df['Corte'] = df['Corte'].replace(\"Manga normal\",\"Generico\")\n",
    "df['Corte'] = df['Corte'].replace(\"Pichi\",\"Generico\")\n",
    "df['Corte'] = df['Corte'].replace(\"manga murciélago\",\"Manga murciélago\")\n",
    "df['Corte'] = df['Corte'].replace(\"manga tulipán\",\"Holgado\")\n",
    "df['Corte'] = df['Corte'].replace(\"Lavar a mano\",\"Generico\")\n",
    "df['Corte'] = df['Corte'].replace(\"manga larga\",\"Natural\")\n",
    "df['Corte'] = df['Corte'].replace(\"Caftán\",\"Natural\")\n",
    "df['Corte'] = df['Corte'].replace(\"Maxi\",\"Natural\")\n",
    "df['Corte'] = df['Corte'].replace(\"Manga Raglán\",\"Tank\")\n",
    "df['Corte'] = df['Corte'].replace(\"Hombros caídos\",\"Holgado\")\n",
    "df['Corte'] = df['Corte'].replace(\"Mini\",\"Ajustado\")\n",
    "df['Corte'] = df['Corte'].replace(\"Bajo con volante\",\"Talle alto\")\n",
    "df['Corte'] = df['Corte'].replace(\"100% Poliéster\",\"Holgado\")\n",
    "df['Corte'] = df['Corte'].replace(\"Manga Raglán\",\"Natural\")\n",
    "df['Corte'] = df['Corte'].replace(\"Gran Calidad\",\"Talle alto\")\n",
    "df['Corte'] = df['Corte'].replace(\"62% Poliéster\",\"Generico\")\n",
    "df['Corte'] = df['Corte'].replace(\"Mangas de Campana\",\"A línea\")\n",
    "df['Corte'] = df['Corte'].replace(\"95% Poliéster\",\"Natural\")\n",
    "df['Corte'] = df['Corte'].replace(\"suelto\",\"Holgado\")\n",
    "df['Corte'] = df['Corte'].replace(\"manga abullonada\",\"A línea\")\n",
    "df['Corte'] = df['Corte'].replace(\"Abertura\",\"Talle alto\")\n",
    "df['Corte'] = df['Corte'].replace(\"manga farol\",\"Generico\")\n",
    "df['Corte'] = df['Corte'].replace(\"Entallado y acampanado\",\"Smock\")\n",
    "df['Corte'] = df['Corte'].replace(\"Sí\",\"Natural\")\n",
    "df['Corte'] = df['Corte'].replace(\"Largo\",\"Talle alto\")\n",
    "df['Corte'] = df['Corte'].replace(\"Lápiz\",\"A línea\")\n",
    "df['Corte'] = df['Corte'].replace(\"Hombros descubiertos\",\"A línea\")\n",
    "df['Corte'] = df['Corte'].replace(\"Regular\",\"Generico\")\n",
    "df['Corte'] = df['Corte'].replace(\"Asimétrico\",\"A línea\")\n",
    "df['Corte'] = df['Corte'].replace(\"No\",\"Natural\")\n",
    "df['Corte'] = df['Corte'].replace(\"manga obispo\",\"Ajustado\")\n",
    "df['Corte'] = df['Corte'].replace(\"Manga enrollada\",\"Natural\")\n",
    "df['Corte'] = df['Corte'].replace(\"Campana\",\"Natural\")\n",
    "df['Corte'] = df['Corte'].replace(\"\",\"\")"
   ]
  },
  {
   "cell_type": "code",
   "execution_count": 154,
   "metadata": {},
   "outputs": [
    {
     "name": "stdout",
     "output_type": "stream",
     "text": [
      "Corte:['100% Poliéster' '95% Poliéster, 5% Elastano' 'Poliéster'\n",
      " 'Estiramiento medio' '88% Poliéster, 12% Elastano' 'Gran Calidad'\n",
      " 'Tela tricotada' '90% Poliéster, 10% Algodón'\n",
      " '94% Poliéster, 6% Elastano' '100% Algodón' 'No' nan\n",
      " '65% Algodón, 35% Viscosa' 'Canalé' '92% Poliéster, 8% Elastano'\n",
      " '96% Poliéster, 4% Elastano' '72% Poliéster, 28% Viscosa'\n",
      " 'Gran Calidad, Cómodo, transpirable, Fresco, Suave y ligero'\n",
      " '66% Poliéster, 28% Viscosa, 6% Elastano' '99% Poliéster, 1% Elastano'\n",
      " 'Tejido similar a la lana' 'Elástico Ligero' 'Franela' 'Sin Forro'\n",
      " 'Poliuretano' 'Pana' 'No-Elástico' '89% Viscosa, 11% Elastano' 'Cuadros'\n",
      " 'Lavadora, no limpiar en seco' '98% Poliéster, 2% Elastano' 'Lentejuelas'\n",
      " 'Elástico Alto' '82% Poliéster, 12% Viscosa, 6% Elastano'\n",
      " 'Lavado a mano o limpieza en seco profesional' 'Brillo metálico'\n",
      " '94% poliamida, 6% Elastano' '100% Poliuretano'\n",
      " '89% Poliéster, 11% Elastano' '80% Poliéster, 20% Viscosa'\n",
      " 'Sensación segunda piel' '65% Poliéster, 30% Viscosa, 5% Elastano'\n",
      " '96% Algodón, 4% Elastano' '76% Poliéster, 20% Algodón, 4% Viscosa'\n",
      " '80% Viscosa, 20% poliamida' 'Tejido Transparente' '100% Viscosa'\n",
      " '77% Poliéster, 23% Fibras Metalizadas' '100% poliamida' 'Regular'\n",
      " '88% Viscosa, 12% Elastano' 'Satén' '100% Elastano'\n",
      " <function get_random_material at 0x00000280ED9E6020>\n",
      " '95% Algodón, 5% Elastano' '83% Poliéster, 11% Viscosa, 6% Elastano'\n",
      " 'Encaje' '90% Viscosa, 10% Elastano' '94% Viscosa, 6% Elastano'\n",
      " '94% Algodón, 6% Elastano' '91% Elastano, 9% Poliéster'\n",
      " 'Gran Calidad, transpirable, Suave'\n",
      " '62% Poliéster, 33% Algodón, 5% Elastano' '87% Poliéster, 13% Elastano'\n",
      " 'Moteado' '62% Poliéster, 34% Algodón, 4% Elastano' 'midi'\n",
      " '88% poliamida, 12% Elastano' 'Cómodo, transpirable'\n",
      " '73% Poliéster, 21% Viscosa, 6% Elastano'\n",
      " '83% Poliéster, 12% Fibras Metalizadas, 5% Elastano'\n",
      " '80% Viscosa, 20% Poliéster' '67% Poliéster, 29% Viscosa, 4% Elastano'\n",
      " '87% poliamida, 13% Elastano' '93% Algodón, 7% Elastano'\n",
      " '93.2% Algodón, 6.8% Elastano' 'Tejido Revestido' 'No lavar'\n",
      " '70% Viscosa, 30% Lino' 'No-Elástico, Elástico Ligero'\n",
      " '75% Viscosa, 20% poliamida, 5% Elastano' '85% Viscosa, 15% poliamida'\n",
      " '60% Viscosa, 35% Poliéster, 5% Elastano'\n",
      " '68% Poliéster, 29% Viscosa, 3% Elastano'\n",
      " '97.3% Poliéster, 2.7% Elastano'\n",
      " 'Calentamiento, transpirable, Se estira, Suave y ligero'\n",
      " '50% Viscosa, 45% Poliéster, 5% Elastano'\n",
      " '70% Poliéster, 27% poliamida, 3% Elastano'\n",
      " '84% Poliéster, 14% Algodón, 2% Elastano' '78% Poliéster, 22% Algodón'\n",
      " '95% Viscosa, 5% Elastano' '68% Poliéster, 31% Viscosa, 1% Elastano'\n",
      " '50% Algodón, 50% Poliéster' '77% Viscosa, 20% poliamida, 3% Elastano'\n",
      " '60% Viscosa, 37% Poliéster, 3% Elastano'\n",
      " '77% Poliéster, 18% Viscosa, 5% Elastano' '65% Poliéster, 35% Algodón'\n",
      " '69% Poliéster, 31% Algodón' '65% Algodón, 35% Poliéster'\n",
      " '90% poliamida, 10% Elastano'\n",
      " '50% poliamida, 42% Fibras Metalizadas, 8% Elastano'\n",
      " 'Agradable para la piel, Suave'\n",
      " '58% Poliéster, 36% Fibras Metalizadas, 6% Elastano'\n",
      " '86% Viscosa, 14% Lino' 'Ajustado'\n",
      " '80% poliamida, 15% Fibras Metalizadas, 5% Elastano'\n",
      " '85% Poliéster, 15% Elastano' '64% Poliéster, 33% Algodón, 3% Elastano'\n",
      " '77% Viscosa, 20% poliamida, 3% Seda' 'Bordado' 'Suave'\n",
      " '80% poliamida, 20% Fibras Metalizadas' 'Calentamiento, Suave y ligero']\n"
     ]
    }
   ],
   "source": [
    "unique_values = df['Material'].unique()\n",
    "print(f\"Corte:{unique_values}\")"
   ]
  },
  {
   "cell_type": "code",
   "execution_count": 148,
   "metadata": {},
   "outputs": [],
   "source": [
    "df['Material'] = df['Material'].replace(\"lavadora o limpieza en seco profesional\",\"95% Poliéster, 5% Elastano\")\n",
    "df['Material'] = df['Material'].replace(\"Tela\",\"Poliéster\")\n",
    "df['Material'] = df['Material'].replace(\"97% Poliéster, 3% Elastano\",\"Estiramiento medio\")\n",
    "df['Material'] = df['Material'].replace(\"Tela tejida\",\"90% Poliéster, 10% Algodón\")\n",
    "df['Material'] = df['Material'].replace(\"Lavado a máquina, no limpiar en seco, lavar con un detergente suave\",\"90% Poliéster, 10% Algodón\")\n",
    "df['Material'] = df['Material'].replace(\"86% Poliéster, 8% Elastano, 6% Fibras Metalizadas\",\"90% Poliéster, 10% Algodón\")\n",
    "df['Material'] = df['Material'].replace(\"90% Poliéster, 10% Elastano\",\"90% Poliéster, 10% Algodón\")\n",
    "df['Material'] = df['Material'].replace(\"Gran Calidad, Cómodo, transpirable, ligero, Fresco, Suave y ligero\",\"100% Algodón\")\n",
    "df['Material'] = df['Material'].replace(\"Sin Almohadillas\",\"Poliuretano\")\n",
    "df['Material'] = df['Material'].replace(\"Lavar a mano, no limpiar en seco\",\"94% Poliéster, 6% Elastano\")\n",
    "df['Material'] = df['Material'].replace(\"60% Poliéster, 30% Viscosa, 10% Elastano\",\"\")\n",
    "df['Material'] = df['Material'].replace(\"82% Viscosa, 18% Lino\",\"88% Poliéster, 12% Elastano\")\n",
    "df['Material'] = df['Material'].replace(\"83% Poliéster, 17% Elastano\",\"88% Poliéster, 12% Elastano\")\n",
    "df['Material'] = df['Material'].replace(\"79% Poliéster, 13% Fibras Metalizadas, 8% Elastano\",\"88% Poliéster, 12% Elastano\")\n",
    "df['Material'] = df['Material'].replace(\"\",\"\")"
   ]
  },
  {
   "cell_type": "code",
   "execution_count": 188,
   "metadata": {},
   "outputs": [],
   "source": [
    "import random\n",
    "materiales = ['Algodón','Elastano'\n",
    "              ,'Poliamida','Poliuretano'\n",
    "              ,'Poliéster','Tela tricotada'\n",
    "              ,'Viscosa'\n",
    "              \n",
    "]\n",
    "def get_random_material():\n",
    "    return random.choice(materiales)"
   ]
  },
  {
   "cell_type": "code",
   "execution_count": 159,
   "metadata": {},
   "outputs": [],
   "source": [
    "df['Material'] = df['Material'].replace(\"Calentamiento, transpirable, Se estira, Suave y ligero\",get_random_material())\n",
    "df['Material'] = df['Material'].replace(\"80% poliamida, 20% Fibras Metalizadas\",get_random_material())\n",
    "df['Material'] = df['Material'].replace(\"Calentamiento, Suave y ligero\",get_random_material())\n",
    "df['Material'] = df['Material'].replace(\"Suave\",get_random_material())\n",
    "df['Material'] = df['Material'].replace(\"77% Viscosa, 20% poliamida, 3% Seda\",get_random_material())\n",
    "df['Material'] = df['Material'].replace(\"64% Poliéster, 33% Algodón, 3% Elastano\",get_random_material())\n",
    "df['Material'] = df['Material'].replace(\"85% Poliéster, 15% Elastano\",get_random_material())\n",
    "df['Material'] = df['Material'].replace(\"80% poliamida, 15% Fibras Metalizadas, 5% Elastano\",get_random_material())\n",
    "df['Material'] = df['Material'].replace(\"Ajustado\",get_random_material())\n",
    "df['Material'] = df['Material'].replace(\"86% Viscosa, 14% Lino\",get_random_material())\n",
    "df['Material'] = df['Material'].replace(\"58% Poliéster, 36% Fibras Metalizadas, 6% Elastano\",get_random_material())\n",
    "df['Material'] = df['Material'].replace(\"Agradable para la piel, Suave\",get_random_material())\n",
    "df['Material'] = df['Material'].replace(\"50% poliamida, 42% Fibras Metalizadas, 8% Elastano\",get_random_material())\n",
    "df['Material'] = df['Material'].replace(\"90% poliamida, 10% Elastano\",get_random_material())\n",
    "df['Material'] = df['Material'].replace(\"65% Algodón, 35% Poliéster\",get_random_material())\n",
    "df['Material'] = df['Material'].replace(\"69% Poliéster, 31% Algodón\",get_random_material())\n",
    "df['Material'] = df['Material'].replace(\"65% Poliéster, 35% Algodón\",get_random_material())\n",
    "df['Material'] = df['Material'].replace(\"77% Poliéster, 18% Viscosa, 5% Elastano\",get_random_material())\n",
    "df['Material'] = df['Material'].replace(\"60% Viscosa, 37% Poliéster, 3% Elastano\",get_random_material())\n",
    "df['Material'] = df['Material'].replace(\"77% Viscosa, 20% poliamida, 3% Elastano\",get_random_material())\n",
    "df['Material'] = df['Material'].replace(\"50% Algodón, 50% Poliéster\",get_random_material())\n",
    "df['Material'] = df['Material'].replace(\"68% Poliéster, 31% Viscosa, 1% Elastano\",get_random_material())\n",
    "df['Material'] = df['Material'].replace(\"95% Viscosa, 5% Elastano\",get_random_material())\n",
    "df['Material'] = df['Material'].replace(\"78% Poliéster, 22% Algodón\",get_random_material())\n",
    "df['Material'] = df['Material'].replace(\"84% Poliéster, 14% Algodón, 2% Elastano\",get_random_material())\n",
    "df['Material'] = df['Material'].replace(\"70% Poliéster, 27% poliamida, 3% Elastano\",get_random_material())\n",
    "df['Material'] = df['Material'].replace(\"50% Viscosa, 45% Poliéster, 5% Elastano\",get_random_material())\n",
    "df['Material'] = df['Material'].replace(\"97.3% Poliéster, 2.7% Elastano\",get_random_material())\n",
    "df['Material'] = df['Material'].replace(\"68% Poliéster, 29% Viscosa, 3% Elastano\",get_random_material())\n",
    "df['Material'] = df['Material'].replace(\"60% Viscosa, 35% Poliéster, 5% Elastano\",get_random_material())\n",
    "df['Material'] = df['Material'].replace(\"85% Viscosa, 15% poliamida\",get_random_material())\n",
    "df['Material'] = df['Material'].replace(\"75% Viscosa, 20% poliamida, 5% Elastano\",get_random_material())\n",
    "df['Material'] = df['Material'].replace(\"No-Elástico, Elástico Ligero\",get_random_material())\n",
    "df['Material'] = df['Material'].replace(\"70% Viscosa, 30% Lino\",get_random_material())\n",
    "df['Material'] = df['Material'].replace(\"No lavar\",get_random_material())\n",
    "df['Material'] = df['Material'].replace(\"Tejido Revestido\",get_random_material())\n",
    "df['Material'] = df['Material'].replace(\"93.2% Algodón, 6.8% Elastano\",get_random_material())\n",
    "df['Material'] = df['Material'].replace(\"93% Algodón, 7% Elastano\",get_random_material())\n",
    "df['Material'] = df['Material'].replace(\"87% poliamida, 13% Elastano\",get_random_material())\n",
    "df['Material'] = df['Material'].replace(\"67% Poliéster, 29% Viscosa, 4% Elastano\",get_random_material())\n",
    "df['Material'] = df['Material'].replace(\"80% Viscosa, 20% Poliéster\",get_random_material())\n",
    "df['Material'] = df['Material'].replace(\"83% Poliéster, 12% Fibras Metalizadas, 5% Elastano\",get_random_material())\n",
    "df['Material'] = df['Material'].replace(\"73% Poliéster, 21% Viscosa, 6% Elastano\",get_random_material())\n",
    "df['Material'] = df['Material'].replace(\"Cómodo, transpirable\",get_random_material())\n",
    "df['Material'] = df['Material'].replace(\"88% poliamida, 12% Elastano\",get_random_material())\n",
    "df['Material'] = df['Material'].replace(\"midi\",get_random_material())\n",
    "df['Material'] = df['Material'].replace(\"62% Poliéster, 34% Algodón, 4% Elastano\",get_random_material())\n",
    "df['Material'] = df['Material'].replace(\"Moteado\",get_random_material())\n",
    "df['Material'] = df['Material'].replace(\"87% Poliéster, 13% Elastano\",get_random_material())\n",
    "df['Material'] = df['Material'].replace(\"62% Poliéster, 33% Algodón, 5% Elastano\",get_random_material())\n",
    "df['Material'] = df['Material'].replace(\"Gran Calidad, transpirable, Suave\",get_random_material())\n",
    "df['Material'] = df['Material'].replace(\"94% Algodón, 6% Elastano' '91% Elastano, 9% Poliéster\",get_random_material())\n",
    "df['Material'] = df['Material'].replace(\"94% Viscosa, 6% Elastano\",get_random_material())\n",
    "df['Material'] = df['Material'].replace(\"90% Viscosa, 10% Elastano\",get_random_material())\n",
    "df['Material'] = df['Material'].replace(\"83% Poliéster, 11% Viscosa, 6% Elastano\",get_random_material())\n",
    "df['Material'] = df['Material'].replace(\"95% Algodón, 5% Elastano\",get_random_material())\n",
    "df['Material'] = df['Material'].replace(\"88% Viscosa, 12% Elastano'\",get_random_material())\n",
    "df['Material'] = df['Material'].replace(\"Regular\",get_random_material())\n",
    "df['Material'] = df['Material'].replace(\"77% Poliéster, 23% Fibras Metalizadas\",get_random_material())\n",
    "df['Material'] = df['Material'].replace(\"80% Viscosa, 20% poliamida\",get_random_material())\n",
    "df['Material'] = df['Material'].replace(\"76% Poliéster, 20% Algodón, 4% Viscosa\",get_random_material())\n"
   ]
  },
  {
   "cell_type": "code",
   "execution_count": 186,
   "metadata": {},
   "outputs": [
    {
     "name": "stdout",
     "output_type": "stream",
     "text": [
      "Corte:['Poliéster' 'Elastano' 'Tela tricotada' 'Algodón' 'Poliuretano'\n",
      " 'Poliamida' 'Viscosa' 'Encaje' nan]\n"
     ]
    }
   ],
   "source": [
    "unique_values = df['Material'].unique()\n",
    "print(f\"Corte:{unique_values}\")"
   ]
  },
  {
   "cell_type": "code",
   "execution_count": 174,
   "metadata": {},
   "outputs": [],
   "source": [
    "df['Material'] = df['Material'].replace(\"Bordado\",get_random_material())\n",
    "df['Material'] = df['Material'].replace(\"Satén\",get_random_material())\n",
    "df['Material'] = df['Material'].replace(\"Tejido Transparente\",get_random_material())\n",
    "df['Material'] = df['Material'].replace(\"Sensación segunda piel\",get_random_material())\n",
    "df['Material'] = df['Material'].replace(\"Brillo metálico\",get_random_material())\n",
    "df['Material'] = df['Material'].replace(\"Lavado a mano o limpieza en seco profesional\",get_random_material())\n",
    "df['Material'] = df['Material'].replace(\"Elástico Alto\",get_random_material())\n",
    "df['Material'] = df['Material'].replace(\"Pana\",get_random_material())\n",
    "df['Material'] = df['Material'].replace(\"No-Elástico\",get_random_material())\n",
    "df['Material'] = df['Material'].replace(\"Cuadros\",get_random_material())\n",
    "df['Material'] = df['Material'].replace(\"No\",get_random_material())\n",
    "df['Material'] = df['Material'].replace(\"Gran Calidad, Cómodo, transpirable, Fresco, Suave y ligero\",get_random_material())\n",
    "df['Material'] = df['Material'].replace(\"Gran Calidad\",get_random_material())\n",
    "df['Material'] = df['Material'].replace(\"Tejido similar a la lana\",get_random_material())\n",
    "df['Material'] = df['Material'].replace(\"Elástico Ligero\",get_random_material())\n",
    "df['Material'] = df['Material'].replace(\"Sin Forro\",get_random_material())\n",
    "df['Material'] = df['Material'].replace(\"Lavadora, no limpiar en seco\",get_random_material())\n",
    "df['Material'] = df['Material'].replace(\"Lentejuelas\",get_random_material())\n",
    "df['Material'] = df['Material'].replace(\"Canalé\",get_random_material())\n",
    "df['Material'] = df['Material'].replace(\"Estiramiento medio\",get_random_material())"
   ]
  },
  {
   "cell_type": "code",
   "execution_count": 192,
   "metadata": {},
   "outputs": [],
   "source": [
    "df = pd.DataFrame(df)\n",
    "\n",
    "# Save the dataframe to a CSV file\n",
    "df.to_csv('test.csv', index=False)"
   ]
  },
  {
   "cell_type": "code",
   "execution_count": 178,
   "metadata": {},
   "outputs": [],
   "source": [
    "csv_file = 'material.csv'  # Replace with your CSV file's path\n",
    "data_material = pd.read_csv(csv_file)"
   ]
  },
  {
   "cell_type": "code",
   "execution_count": 194,
   "metadata": {},
   "outputs": [
    {
     "name": "stdout",
     "output_type": "stream",
     "text": [
      "Materiales:['Poliamida' 'Elastano' 'Tela tricotada' 'Poliuretano' 'Viscosa' 'Encaje']\n"
     ]
    }
   ],
   "source": [
    "unique_values = data_material['Material'].unique()\n",
    "print(f\"Materiales:{unique_values}\")"
   ]
  },
  {
   "cell_type": "code",
   "execution_count": 196,
   "metadata": {},
   "outputs": [],
   "source": [
    "df['Material'] = df['Material'].replace('Algodón',get_random_material())"
   ]
  },
  {
   "cell_type": "code",
   "execution_count": 197,
   "metadata": {},
   "outputs": [
    {
     "data": {
      "text/plain": [
       "0       Tela tricotada\n",
       "1       Tela tricotada\n",
       "2       Tela tricotada\n",
       "3       Tela tricotada\n",
       "4       Tela tricotada\n",
       "             ...      \n",
       "5101               NaN\n",
       "5102               NaN\n",
       "5103               NaN\n",
       "5104               NaN\n",
       "5105               NaN\n",
       "Name: Material, Length: 5106, dtype: object"
      ]
     },
     "execution_count": 197,
     "metadata": {},
     "output_type": "execute_result"
    }
   ],
   "source": [
    "df['Material']"
   ]
  }
 ],
 "metadata": {
  "kernelspec": {
   "display_name": "Python 3",
   "language": "python",
   "name": "python3"
  },
  "language_info": {
   "codemirror_mode": {
    "name": "ipython",
    "version": 3
   },
   "file_extension": ".py",
   "mimetype": "text/x-python",
   "name": "python",
   "nbconvert_exporter": "python",
   "pygments_lexer": "ipython3",
   "version": "3.12.0"
  }
 },
 "nbformat": 4,
 "nbformat_minor": 2
}
